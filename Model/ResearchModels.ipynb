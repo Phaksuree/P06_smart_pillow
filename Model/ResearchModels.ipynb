{
  "nbformat": 4,
  "nbformat_minor": 0,
  "metadata": {
    "colab": {
      "name": "ResearchModels.ipynb",
      "provenance": [],
      "collapsed_sections": []
    },
    "kernelspec": {
      "name": "python3",
      "display_name": "Python 3"
    },
    "accelerator": "GPU"
  },
  "cells": [
    {
      "cell_type": "code",
      "metadata": {
        "id": "oJdWqeGbmidA",
        "colab_type": "code",
        "colab": {}
      },
      "source": [
        "from google.colab import drive\n",
        "drive.mount('/content/gdrive')"
      ],
      "execution_count": 0,
      "outputs": []
    },
    {
      "cell_type": "code",
      "metadata": {
        "id": "eIr8KxtycdjT",
        "colab_type": "code",
        "colab": {}
      },
      "source": [
        "path = '/content/gdrive/My Drive/co_labs/smart_pillow' "
      ],
      "execution_count": 0,
      "outputs": []
    },
    {
      "cell_type": "code",
      "metadata": {
        "id": "06aIKNrKm2lc",
        "colab_type": "code",
        "colab": {}
      },
      "source": [
        "import numpy as np\n",
        "import pandas as pd"
      ],
      "execution_count": 0,
      "outputs": []
    },
    {
      "cell_type": "code",
      "metadata": {
        "id": "Ap2o96Kxm4c6",
        "colab_type": "code",
        "colab": {}
      },
      "source": [
        "data=pd.read_csv(path+'/datatest_all_andZero.csv',header=None)\n",
        "np_array=data.values"
      ],
      "execution_count": 0,
      "outputs": []
    },
    {
      "cell_type": "code",
      "metadata": {
        "id": "-8BChN3Bm7y0",
        "colab_type": "code",
        "outputId": "4e2e2aa6-d15c-4e98-8a16-3c802a992e1a",
        "colab": {
          "base_uri": "https://localhost:8080/",
          "height": 34
        }
      },
      "source": [
        "from keras.models import Sequential\n",
        "from keras.layers import Dense\n",
        "from keras.layers import *\n",
        "from numpy import array\n",
        "from sklearn.model_selection import train_test_split\n",
        "from keras.wrappers.scikit_learn import KerasClassifier\n",
        "from keras.utils import np_utils\n",
        "from sklearn.model_selection import cross_val_score\n",
        "from sklearn.model_selection import KFold\n",
        "from sklearn.preprocessing import LabelEncoder\n",
        "from sklearn.pipeline import Pipeline\n",
        "from keras.layers import Dropout\n",
        "from keras.callbacks import ModelCheckpoint\n",
        "from keras.utils import to_categorical\n",
        "from keras import metrics\n",
        "from sklearn.metrics import accuracy_score, classification_report"
      ],
      "execution_count": 0,
      "outputs": [
        {
          "output_type": "stream",
          "text": [
            "Using TensorFlow backend.\n"
          ],
          "name": "stderr"
        }
      ]
    },
    {
      "cell_type": "code",
      "metadata": {
        "id": "tsffn0xD27pX",
        "colab_type": "code",
        "colab": {}
      },
      "source": [
        "from sklearn.preprocessing import Normalizer\n",
        "from sklearn.preprocessing import StandardScaler\n",
        "from sklearn.preprocessing import MinMaxScaler\n",
        "from sklearn.preprocessing import minmax_scale\n",
        "from sklearn.preprocessing import MaxAbsScaler\n",
        "from sklearn.preprocessing import FunctionTransformer\n",
        "from sklearn import preprocessing"
      ],
      "execution_count": 0,
      "outputs": []
    },
    {
      "cell_type": "code",
      "metadata": {
        "id": "fMplLWhdm-g7",
        "colab_type": "code",
        "colab": {}
      },
      "source": [
        "def accuracy(confusion_matrix):\n",
        "   diagonal_sum = confusion_matrix.trace()\n",
        "   sum_of_all_elements = confusion_matrix.sum()\n",
        "   return diagonal_sum / sum_of_all_elements"
      ],
      "execution_count": 0,
      "outputs": []
    },
    {
      "cell_type": "code",
      "metadata": {
        "id": "J1UFKFTscRgV",
        "colab_type": "code",
        "outputId": "0d65dbfd-6a65-4092-ad43-04552d94b76b",
        "colab": {
          "base_uri": "https://localhost:8080/",
          "height": 33
        }
      },
      "source": [
        "!python --version"
      ],
      "execution_count": 0,
      "outputs": [
        {
          "output_type": "stream",
          "text": [
            "Python 3.6.9\n"
          ],
          "name": "stdout"
        }
      ]
    },
    {
      "cell_type": "code",
      "metadata": {
        "id": "R4CsVr0hm_Hq",
        "colab_type": "code",
        "colab": {}
      },
      "source": [
        "import matplotlib.pyplot as plt\n",
        "from sklearn.metrics import confusion_matrix\n",
        "import itertools\n",
        "def plot_confusion_matrix(cm, classes,normalize,title='Confusion matrix', cmap=plt.cm.Blues):\n",
        "  if normalize:\n",
        "    cm = cm.astype('float')/cm.sum(axis=1)[:,np.newaxis]\n",
        "    print(\"Normalized confusion matrix\")\n",
        "  else:\n",
        "    print(\"confusion matrix, without normalization\")\n",
        "  print(cm)\n",
        "\n",
        "  plt.imshow(cm, interpolation='nearest', cmap=cmap)\n",
        "  plt.title(title)\n",
        "  plt.colorbar()\n",
        "  tick_marks = np.arange(len(classes))\n",
        "  plt.xticks(tick_marks, classes, rotation=45)\n",
        "  plt.yticks(tick_marks, classes)\n",
        "\n",
        "  fmt = '.2f' if normalize else 'd'\n",
        "  thresh = cm.max() / 2.\n",
        "  for i, j in itertools.product(range(cm.shape[0]), range(cm.shape[1])):\n",
        "    plt.text(j, i, format(cm[i, j], fmt),\n",
        "             horizontalalignment='center',\n",
        "             color='white' if cm[i,j] > thresh else \"black\")\n",
        "  plt.ylabel('True label')\n",
        "  plt.xlabel('Predicted label')\n",
        "  plt.tight_layout"
      ],
      "execution_count": 0,
      "outputs": []
    },
    {
      "cell_type": "code",
      "metadata": {
        "id": "u0Qamz5qnCGj",
        "colab_type": "code",
        "colab": {}
      },
      "source": [
        "X = np_array[:,0:-1]\n",
        "Y = np_array[:,-1]"
      ],
      "execution_count": 0,
      "outputs": []
    },
    {
      "cell_type": "code",
      "metadata": {
        "id": "RfdRp-kbnFNl",
        "colab_type": "code",
        "colab": {}
      },
      "source": [
        "from sklearn.preprocessing import LabelBinarizer\n",
        "lb = LabelBinarizer()\n",
        "labels = lb.fit_transform(Y)"
      ],
      "execution_count": 0,
      "outputs": []
    },
    {
      "cell_type": "code",
      "metadata": {
        "id": "emwFp1oSEtbH",
        "colab_type": "code",
        "colab": {}
      },
      "source": [
        "from sklearn.externals.joblib import dump, load\n",
        "sc=load(path+'/std_scaler.bin')"
      ],
      "execution_count": 0,
      "outputs": []
    },
    {
      "cell_type": "code",
      "metadata": {
        "id": "jdjkLgNIvUE_",
        "colab_type": "code",
        "colab": {}
      },
      "source": [
        "X_Standard=sc.fit_transform(X)"
      ],
      "execution_count": 0,
      "outputs": []
    },
    {
      "cell_type": "code",
      "metadata": {
        "id": "NtwJebc304c3",
        "colab_type": "code",
        "colab": {}
      },
      "source": [
        "path = '/content/gdrive/My Drive/co_labs/smart_pillow/split' "
      ],
      "execution_count": 0,
      "outputs": []
    },
    {
      "cell_type": "code",
      "metadata": {
        "id": "VpCiEhibnaga",
        "colab_type": "code",
        "colab": {}
      },
      "source": [
        "x_train,x_test,y_train,y_test=train_test_split(X_NormalL2,labels,test_size=0.2, shuffle = True , stratify = labels,random_state=9)"
      ],
      "execution_count": 0,
      "outputs": []
    },
    {
      "cell_type": "code",
      "metadata": {
        "id": "5BmNw6ejJ3nq",
        "colab_type": "code",
        "colab": {}
      },
      "source": [
        "model = Sequential()\n",
        "model.add(Dense(9, input_dim=9, activation='relu'))\n",
        "model.add(Dense(9, activation='relu'))\n",
        "model.add(Dense(9, activation='relu'))\n",
        "model.add(Dense(4, activation='softmax'))\n",
        "model.compile(loss='categorical_crossentropy', optimizer='adam', metrics=['accuracy'])\n",
        "checkpointer = ModelCheckpoint(path+'/NeuronN_model_NormalL2.h5',verbose=1, monitor = 'val_acc', save_best_only = True)\n",
        "history=model.fit(x_train, y_train, epochs=100,steps_per_epoch=len(x_train) // 32,\n",
        "                  callbacks = [checkpointer],validation_data = [x_test, y_test],validation_steps=len(x_test) // 32)\n",
        "_, accuracy = model.evaluate(x_train, y_train)\n",
        "print('Accuracy: %.2f' % (accuracy*100))"
      ],
      "execution_count": 0,
      "outputs": []
    },
    {
      "cell_type": "code",
      "metadata": {
        "id": "NjgcynjUKT4B",
        "colab_type": "code",
        "colab": {}
      },
      "source": [
        "import matplotlib.pyplot as plt\n",
        "# Plot learning curves\n",
        "fig = plt.figure(figsize = (17, 4))\n",
        "    \n",
        "plt.subplot(121)\n",
        "plt.plot(history.history['acc'], label = 'acc')\n",
        "plt.plot(history.history['val_acc'], label = 'val_acc')\n",
        "plt.legend()\n",
        "plt.grid()\n",
        "plt.title(f'accuracy')\n",
        "\n",
        "plt.subplot(122)\n",
        "plt.plot(history.history['loss'], label = 'loss')\n",
        "plt.plot(history.history['val_loss'], label = 'val_loss')\n",
        "plt.legend()\n",
        "plt.grid()\n",
        "plt.title(f'loss')"
      ],
      "execution_count": 0,
      "outputs": []
    },
    {
      "cell_type": "code",
      "metadata": {
        "id": "DIRu1NkdMl0l",
        "colab_type": "code",
        "colab": {}
      },
      "source": [
        "y_pred=model.predict_classes(x_test)\n",
        "# y_pred_inv = [np.argmax(y, axis=None, out=None) for y in y_pred]\n",
        "y_test_inv = [np.argmax(y, axis=None, out=None) for y in y_test]\n",
        "print(classification_report(y_test_inv, y_pred, target_names=['0','1','2','3']))\n",
        "cm = confusion_matrix(y_test_inv, y_pred,labels=[0,1,2,3])\n",
        "plot_confusion_matrix(cm=cm,classes=[0,1,2,3],normalize=None)"
      ],
      "execution_count": 0,
      "outputs": []
    },
    {
      "cell_type": "code",
      "metadata": {
        "id": "b4YGC-uoFhox",
        "colab_type": "code",
        "colab": {}
      },
      "source": [
        "cm = confusion_matrix(test, ans,labels=[0,1,2,3])\n",
        "plot_confusion_matrix(cm=cm,classes=[0,1,2,3],normalize=None)"
      ],
      "execution_count": 0,
      "outputs": []
    },
    {
      "cell_type": "code",
      "metadata": {
        "id": "vJ7z3wWaLrZG",
        "colab_type": "code",
        "colab": {}
      },
      "source": [
        "x_train,x_test,y_train,y_test=train_test_split(X,Y,test_size=0.2, shuffle = True , stratify = Y,random_state=9)"
      ],
      "execution_count": 0,
      "outputs": []
    },
    {
      "cell_type": "code",
      "metadata": {
        "id": "ifELr2cKnc-N",
        "colab_type": "code",
        "colab": {}
      },
      "source": [
        "from sklearn.neural_network import MLPClassifier\n",
        "MLPClassifier = MLPClassifier(hidden_layer_sizes=(50,50), max_iter=100,activation = 'relu',solver='adam',random_state=1)\n",
        "MLPClassifier.fit(x_train, y_train)\n",
        "y_pred = MLPClassifier.predict(x_test)\n",
        "print(\"Train Score: \",MLPClassifier.score(x_train,y_train))\n",
        "print(\"Test Score: \",MLPClassifier.score(x_test,y_test))\n",
        "print(classification_report(y_test, y_pred, target_names=['0','1','2','3']))\n",
        "cm = confusion_matrix(y_test, y_pred,labels=[0,1,2,3])\n",
        "plot_confusion_matrix(cm=cm,classes=[0,1,2,3],normalize=None)"
      ],
      "execution_count": 0,
      "outputs": []
    },
    {
      "cell_type": "code",
      "metadata": {
        "id": "e7taXB4VvSF3",
        "colab_type": "code",
        "colab": {}
      },
      "source": [
        "from sklearn.externals import joblib\n",
        "filename = path+'/MLPClassifier_model_MinMax.h5'\n",
        "joblib.dump(MLPClassifier, filename)"
      ],
      "execution_count": 0,
      "outputs": []
    },
    {
      "cell_type": "code",
      "metadata": {
        "id": "DM2itvbTnvKa",
        "colab_type": "code",
        "colab": {}
      },
      "source": [
        "from sklearn.naive_bayes import GaussianNB\n",
        "GaussianNB = GaussianNB()\n",
        "GaussianNB.fit(x_train, y_train)\n",
        "y_pred = GaussianNB.predict(x_test)\n",
        "print(\"Train Score: \",GaussianNB.score(x_train,y_train))\n",
        "print(\"Test Score: \",GaussianNB.score(x_test,y_test))\n",
        "print(classification_report(y_test, y_pred, target_names=['0','1','2','3']))\n",
        "cm = confusion_matrix(y_test, y_pred,labels=[0,1,2,3])\n",
        "plot_confusion_matrix(cm=cm,classes=[0,1,2,3],normalize=None)"
      ],
      "execution_count": 0,
      "outputs": []
    },
    {
      "cell_type": "code",
      "metadata": {
        "id": "3QF1LZpGnxLj",
        "colab_type": "code",
        "colab": {}
      },
      "source": [
        "filename = path+'/GaussianNB_model_MinMax.h5'\n",
        "joblib.dump(GaussianNB, filename)"
      ],
      "execution_count": 0,
      "outputs": []
    },
    {
      "cell_type": "code",
      "metadata": {
        "id": "3pfx7xpOn0Zr",
        "colab_type": "code",
        "colab": {}
      },
      "source": [
        "from sklearn.ensemble import RandomForestClassifier\n",
        "RandomForestClassifier = RandomForestClassifier()\n",
        "RandomForestClassifier.fit(x_train, y_train)\n",
        "y_pred = RandomForestClassifier.predict(x_test)\n",
        "print(\"Train Score: \",RandomForestClassifier.score(x_train,y_train))\n",
        "print(\"Test Score: \",RandomForestClassifier.score(x_test,y_test))\n",
        "print(classification_report(y_test, y_pred, target_names=['0','1','2','3']))\n",
        "cm = confusion_matrix(y_test, y_pred,labels=[0,1,2,3])\n",
        "plot_confusion_matrix(cm=cm,classes=[0,1,2,3],normalize=None)"
      ],
      "execution_count": 0,
      "outputs": []
    },
    {
      "cell_type": "code",
      "metadata": {
        "id": "54nlpoXen3hT",
        "colab_type": "code",
        "colab": {}
      },
      "source": [
        "filename = path+'/RandomForestClassifier_model_MinMax.h5'\n",
        "joblib.dump(RandomForestClassifier, filename)"
      ],
      "execution_count": 0,
      "outputs": []
    },
    {
      "cell_type": "code",
      "metadata": {
        "id": "eWARLnBYn6VE",
        "colab_type": "code",
        "colab": {}
      },
      "source": [
        "from sklearn.neighbors import KNeighborsClassifier\n",
        "KNeighborsClassifier = KNeighborsClassifier()\n",
        "KNeighborsClassifier.fit(x_train, y_train)\n",
        "y_pred = KNeighborsClassifier.predict(x_test)\n",
        "print(\"Train Score: \",KNeighborsClassifier.score(x_train,y_train))\n",
        "print(\"Test Score: \",KNeighborsClassifier.score(x_test,y_test))\n",
        "print(classification_report(y_test, y_pred, target_names=['0','1','2','3']))\n",
        "cm = confusion_matrix(y_test, y_pred,labels=[0,1,2,3])\n",
        "plot_confusion_matrix(cm=cm,classes=[0,1,2,3],normalize=None)"
      ],
      "execution_count": 0,
      "outputs": []
    },
    {
      "cell_type": "code",
      "metadata": {
        "id": "6lgUtiifn7Jq",
        "colab_type": "code",
        "colab": {}
      },
      "source": [
        "filename = path+'/KNeighborsClassifier_model_MinMax.h5'\n",
        "joblib.dump(KNeighborsClassifier, filename)"
      ],
      "execution_count": 0,
      "outputs": []
    },
    {
      "cell_type": "code",
      "metadata": {
        "id": "lny5zWmOn9jF",
        "colab_type": "code",
        "colab": {}
      },
      "source": [
        "from sklearn.tree import DecisionTreeClassifier\n",
        "DecisionTreeClassifier = DecisionTreeClassifier(max_depth=2)\n",
        "DecisionTreeClassifier.fit(x_train, y_train)\n",
        "y_pred = DecisionTreeClassifier.predict(x_test)\n",
        "print(\"Train Score: \",DecisionTreeClassifier.score(x_train,y_train))\n",
        "print(\"Test Score: \",DecisionTreeClassifier.score(x_test,y_test))\n",
        "print(classification_report(y_test, y_pred, target_names=['0','1','2','3']))\n",
        "cm = confusion_matrix(y_test, y_pred,labels=[0,1,2,3])\n",
        "plot_confusion_matrix(cm=cm,classes=[0,1,2,3],normalize=None)"
      ],
      "execution_count": 0,
      "outputs": []
    },
    {
      "cell_type": "code",
      "metadata": {
        "id": "11PbARwin_F9",
        "colab_type": "code",
        "colab": {}
      },
      "source": [
        "filename = path+'/DecisionTreeClassifier_model_.h5'\n",
        "joblib.dump(DecisionTreeClassifier, filename)"
      ],
      "execution_count": 0,
      "outputs": []
    },
    {
      "cell_type": "code",
      "metadata": {
        "id": "si2Io9MYoAuM",
        "colab_type": "code",
        "colab": {}
      },
      "source": [
        "from sklearn.svm import LinearSVC\n",
        "LinearSVC = LinearSVC()\n",
        "LinearSVC.fit(x_train, y_train)\n",
        "y_pred = LinearSVC.predict(x_test)\n",
        "print(\"Train Score: \",LinearSVC.score(x_train,y_train))\n",
        "print(\"Test Score: \",LinearSVC.score(x_test,y_test))\n",
        "print(classification_report(y_test, y_pred, target_names=['0','1','2','3']))\n",
        "cm = confusion_matrix(y_test, y_pred,labels=[0,1,2,3])\n",
        "plot_confusion_matrix(cm=cm,classes=[0,1,2,3],normalize=None)"
      ],
      "execution_count": 0,
      "outputs": []
    },
    {
      "cell_type": "code",
      "metadata": {
        "id": "zoefNknCoBQN",
        "colab_type": "code",
        "colab": {}
      },
      "source": [
        "filename = path+'/LinearSVC_model_MinMax.h5'\n",
        "joblib.dump(LinearSVC, filename)"
      ],
      "execution_count": 0,
      "outputs": []
    },
    {
      "cell_type": "code",
      "metadata": {
        "id": "gMcBh9eVodVc",
        "colab_type": "code",
        "colab": {}
      },
      "source": [
        "from sklearn.linear_model import LogisticRegression\n",
        "LogisticRegression = LogisticRegression()\n",
        "LogisticRegression.fit(x_train, y_train)\n",
        "y_pred = LogisticRegression.predict(x_test)\n",
        "print(\"Train Score: \",LogisticRegression.score(x_train,y_train))\n",
        "print(\"Test Score: \",LogisticRegression.score(x_test,y_test))\n",
        "print(classification_report(y_test, y_pred, target_names=['0','1','2','3']))\n",
        "cm = confusion_matrix(y_test, y_pred,labels=[0,1,2,3])\n",
        "plot_confusion_matrix(cm=cm,classes=[0,1,2,3],normalize=None)"
      ],
      "execution_count": 0,
      "outputs": []
    },
    {
      "cell_type": "code",
      "metadata": {
        "id": "7Unpy-vMsuav",
        "colab_type": "code",
        "colab": {}
      },
      "source": [
        "filename = path+'/LogisticRegression_model_MinMax.h5'\n",
        "joblib.dump(LogisticRegression, filename)"
      ],
      "execution_count": 0,
      "outputs": []
    }
  ]
}